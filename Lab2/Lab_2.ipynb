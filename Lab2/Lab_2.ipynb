{
 "cells": [
  {
   "cell_type": "code",
   "execution_count": 56,
   "metadata": {},
   "outputs": [],
   "source": [
    "import numpy as np\n",
    "import matplotlib.pyplot as plt\n",
    "import pandas as pd\n",
    "\n",
    "from collections import Counter\n",
    "\n",
    "import functools\n",
    "\n",
    "import math"
   ]
  },
  {
   "cell_type": "code",
   "execution_count": 52,
   "metadata": {},
   "outputs": [
    {
     "name": "stdout",
     "output_type": "stream",
     "text": [
      "(185, 33)\n",
      "[[804 '05.06.08' '3576.30']\n",
      " [804 '06.06.08' '3576.30']\n",
      " [804 '07.06.08' '3576.30']\n",
      " [804 '08.06.08' '3576.30']\n",
      " [804 '09.06.08' '3576.30']\n",
      " [804 '17.06.11' '3576.30']\n",
      " [807 '16.09.04' '3590.00']\n",
      " [807 '16.09.04' '3590.00']\n",
      " [807 '17.09.04' '3590.00']\n",
      " [807 '17.09.04' '3590.00']]\n",
      "Num samples == 185\n",
      "Num features == 33\n"
     ]
    }
   ],
   "source": [
    "inputFile = \"ID_data_mass_18122012_prepared.csv\"\n",
    "\n",
    "dataFrame = pd.read_csv(inputFile, header = 0, sep = ';')\n",
    "print(dataFrame.shape)\n",
    "data = dataFrame.values[0:10,0:3]\n",
    "print(data)\n",
    "\n",
    "numSamples = dataFrame.shape[0]\n",
    "print(\"Num samples == \" + str(numSamples))\n",
    "numFeatures = dataFrame.shape[1]\n",
    "print(\"Num features == \" + str(numFeatures))"
   ]
  },
  {
   "cell_type": "code",
   "execution_count": 59,
   "metadata": {},
   "outputs": [
    {
     "name": "stdout",
     "output_type": "stream",
     "text": [
      "dict_values([1, 1, 1, 1, 1, 1, 92, 1, 2, 2, 2, 1, 3, 2, 2, 2, 1, 1, 1, 1, 1, 1, 1, 1, 1, 1, 1, 1, 1, 1, 1, 1, 1, 1, 1, 1, 1, 2, 4, 1, 1, 2, 2, 1, 1, 2, 1, 1, 2, 1, 1, 2, 1, 2, 2, 1, 1, 1, 2, 1, 1, 1, 1, 1, 1, 1, 1, 1, 1, 1, 2, 1, 1])\n",
      "dict_keys(['311.91/2.78', '288.6/3.7', '248.79/4.52', '223.56/5.22', '215.15/5.77', '241.13/3.08', 'nan/nan', '188.0/nan', '178.0/nan', '169.0/nan', '162.0/nan', '230.0/nan', '201.0/nan', '172.0/nan', '157.0/nan', '141.0/nan', '385.42/4.23', '295.5/4.71', '255.68/5.73', '233.96/5.78', '223.11/5.76', '199.63/5.25', '245.68/4.25', '294.59/3.72', '282.24/5.17', '280.56/8.4', '292.24/9.64', '284.08/10.93', '289.18/9.33', '287.52/6.42', '254.84/4.59', '243.23/5.83', '219.04/7.28', '270.0/nan', '251.0/nan', '236.0/nan', '217.0/nan', '200.0/nan', '180.0/nan', '160.0/nan', '156.0/nan', '153.0/nan', '152.0/nan', '138.0/nan', '131.0/nan', '212.0/nan', '194.0/nan', '187.0/nan', '198.0/nan', '174.0/nan', '171.0/nan', '165.0/nan', '140.0/nan', '154.0/nan', '139.0/nan', '132.0/nan', '241.0/nan', '216.0/nan', '191.0/nan', '177.0/nan', '164.0/nan', '219.0/nan', '218.0/nan', '161.0/nan', '224.0/nan', '199.0/nan', '192.0/nan', '222.0/nan', '204.0/nan', '186.0/nan', '182.0/nan', '147.0/nan', '145.0/nan'])\n",
      "[0.005405405405405406, 0.005405405405405406, 0.005405405405405406, 0.005405405405405406, 0.005405405405405406, 0.005405405405405406, 0.4972972972972973, 0.005405405405405406, 0.010810810810810811, 0.010810810810810811, 0.010810810810810811, 0.005405405405405406, 0.016216216216216217, 0.010810810810810811, 0.010810810810810811, 0.010810810810810811, 0.005405405405405406, 0.005405405405405406, 0.005405405405405406, 0.005405405405405406, 0.005405405405405406, 0.005405405405405406, 0.005405405405405406, 0.005405405405405406, 0.005405405405405406, 0.005405405405405406, 0.005405405405405406, 0.005405405405405406, 0.005405405405405406, 0.005405405405405406, 0.005405405405405406, 0.005405405405405406, 0.005405405405405406, 0.005405405405405406, 0.005405405405405406, 0.005405405405405406, 0.005405405405405406, 0.010810810810810811, 0.021621621621621623, 0.005405405405405406, 0.005405405405405406, 0.010810810810810811, 0.010810810810810811, 0.005405405405405406, 0.005405405405405406, 0.010810810810810811, 0.005405405405405406, 0.005405405405405406, 0.010810810810810811, 0.005405405405405406, 0.005405405405405406, 0.010810810810810811, 0.005405405405405406, 0.010810810810810811, 0.010810810810810811, 0.005405405405405406, 0.005405405405405406, 0.005405405405405406, 0.010810810810810811, 0.005405405405405406, 0.005405405405405406, 0.005405405405405406, 0.005405405405405406, 0.005405405405405406, 0.005405405405405406, 0.005405405405405406, 0.005405405405405406, 0.005405405405405406, 0.005405405405405406, 0.005405405405405406, 0.010810810810810811, 0.005405405405405406, 0.005405405405405406]\n",
      "Entropy == 4.010008655543741\n"
     ]
    }
   ],
   "source": [
    "kgfColumnId = dataFrame.shape[1] - 1\n",
    "gtotalColumnId = dataFrame.shape[1] - 2\n",
    "\n",
    "listOfKeys = [str(line[kgfColumnId]) + '/' + str(line[gtotalColumnId]) for line in dataFrame.values]\n",
    "uniqueKeys = Counter(listOfKeys).keys()\n",
    "\n",
    "keyFrequencies = Counter(listOfKeys).values()\n",
    "print(keyFrequencies)\n",
    "print(uniqueKeys)\n",
    "\n",
    "probabilities = [keyFrequency / numSamples for keyFrequency in keyFrequencies]\n",
    "print(probabilities)\n",
    "\n",
    "entropy = functools.reduce(lambda accum, element : accum + (-element * math.log2(element)), probabilities)\n",
    "print(\"Entropy == \" + str(entropy))"
   ]
  },
  {
   "cell_type": "code",
   "execution_count": null,
   "metadata": {},
   "outputs": [],
   "source": []
  }
 ],
 "metadata": {
  "kernelspec": {
   "display_name": "Python 3",
   "language": "python",
   "name": "python3"
  },
  "language_info": {
   "codemirror_mode": {
    "name": "ipython",
    "version": 3
   },
   "file_extension": ".py",
   "mimetype": "text/x-python",
   "name": "python",
   "nbconvert_exporter": "python",
   "pygments_lexer": "ipython3",
   "version": "3.7.4"
  }
 },
 "nbformat": 4,
 "nbformat_minor": 2
}
