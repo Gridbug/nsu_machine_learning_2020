{
 "cells": [
  {
   "cell_type": "code",
   "execution_count": 104,
   "metadata": {},
   "outputs": [],
   "source": [
    "import numpy as np\n",
    "import matplotlib.pyplot as plt\n",
    "import pandas as pd\n",
    "\n",
    "from collections import Counter\n",
    "\n",
    "import functools\n",
    "\n",
    "import math"
   ]
  },
  {
   "cell_type": "code",
   "execution_count": 52,
   "metadata": {},
   "outputs": [
    {
     "name": "stdout",
     "output_type": "stream",
     "text": [
      "(185, 33)\n",
      "[[804 '05.06.08' '3576.30']\n",
      " [804 '06.06.08' '3576.30']\n",
      " [804 '07.06.08' '3576.30']\n",
      " [804 '08.06.08' '3576.30']\n",
      " [804 '09.06.08' '3576.30']\n",
      " [804 '17.06.11' '3576.30']\n",
      " [807 '16.09.04' '3590.00']\n",
      " [807 '16.09.04' '3590.00']\n",
      " [807 '17.09.04' '3590.00']\n",
      " [807 '17.09.04' '3590.00']]\n",
      "Num samples == 185\n",
      "Num features == 33\n"
     ]
    }
   ],
   "source": [
    "inputFile = \"ID_data_mass_18122012_prepared.csv\"\n",
    "\n",
    "dataFrame = pd.read_csv(inputFile, header = 0, sep = ';')\n",
    "print(dataFrame.shape)\n",
    "data = dataFrame.values[0:10,0:3]\n",
    "print(data)\n",
    "\n",
    "numSamples = dataFrame.shape[0]\n",
    "print(\"Num samples == \" + str(numSamples))\n",
    "numFeatures = dataFrame.shape[1] - 2  #Last to features used as class designation\n",
    "print(\"Num features == \" + str(numFeatures))"
   ]
  },
  {
   "cell_type": "code",
   "execution_count": 70,
   "metadata": {},
   "outputs": [
    {
     "name": "stdout",
     "output_type": "stream",
     "text": [
      "Entropy == 4.010008655543741\n"
     ]
    }
   ],
   "source": [
    "kgfColumnId = dataFrame.shape[1] - 1\n",
    "gtotalColumnId = dataFrame.shape[1] - 2\n",
    "\n",
    "listOfClassKeys = [str(line[kgfColumnId]) + '/' + str(line[gtotalColumnId]) for line in dataFrame.values]\n",
    "\n",
    "keyFrequencies = Counter(listOfKeys).values()\n",
    "# print(keyFrequencies)\n",
    "\n",
    "uniqueKeys = Counter(listOfKeys).keys()\n",
    "# print(uniqueKeys)\n",
    "\n",
    "probabilities = [keyFrequency / numSamples for keyFrequency in keyFrequencies]\n",
    "# print(probabilities)\n",
    "\n",
    "entropy = functools.reduce(lambda accum, element : accum + (-element * math.log2(element)), probabilities)\n",
    "print(\"Entropy == \" + str(entropy))"
   ]
  },
  {
   "cell_type": "code",
   "execution_count": 122,
   "metadata": {},
   "outputs": [
    {
     "name": "stdout",
     "output_type": "stream",
     "text": [
      "Feature's #0 entropy == 2.0124658715180104\n",
      "Feature's #1 entropy == 0.043243243243243246\n",
      "Feature's #2 entropy == 1.2247128344901301\n",
      "Feature's #3 entropy == 2.780565733666341\n",
      "Feature's #4 entropy == 0.1013777702819647\n",
      "Feature's #5 entropy == 0.032432432432432434\n",
      "Feature's #6 entropy == 0.05405405405405406\n",
      "Feature's #7 entropy == 0.45768126736787623\n",
      "Feature's #8 entropy == 0.06486486486486487\n",
      "Feature's #9 entropy == 0.09464743245582127\n",
      "Feature's #10 entropy == 0.9841682425908906\n",
      "Feature's #11 entropy == 1.3874530528543243\n",
      "Feature's #12 entropy == 0.5723800833077337\n",
      "Feature's #13 entropy == 0.05405405405405406\n",
      "Feature's #14 entropy == 0.0\n",
      "Feature's #15 entropy == 0.032432432432432434\n",
      "Feature's #16 entropy == 0.6330248451935371\n",
      "Feature's #17 entropy == 0.0\n",
      "Feature's #18 entropy == 0.010810810810810811\n",
      "Feature's #19 entropy == 0.08648648648648649\n",
      "Feature's #20 entropy == 1.2962994575596065\n",
      "Feature's #21 entropy == 1.7371843423843107\n",
      "Feature's #22 entropy == 1.1978703495649814\n",
      "Feature's #23 entropy == 1.0491840061370927\n",
      "Feature's #24 entropy == 1.9641051256216169\n",
      "Feature's #25 entropy == 0.599426232376114\n",
      "Feature's #26 entropy == 0.599426232376114\n",
      "Feature's #27 entropy == 0.28601410477428796\n",
      "Feature's #28 entropy == 1.1763430482561708\n",
      "Feature's #29 entropy == 0.5623887837260071\n",
      "Feature's #30 entropy == 1.6885129048816914\n",
      "Feature's #31 entropy == 0.0\n",
      "Feature's #32 entropy == 0.0\n"
     ]
    }
   ],
   "source": [
    "featureEntropies = [0] * numFeatures\n",
    "featureInformationGain = [0] * numFeatures\n",
    "\n",
    "for featureId in range(numFeatures):\n",
    "    listOfFeatureValues = dataFrame.values[:, featureId]\n",
    "    \n",
    "    uniqueFeatureValues = Counter(listOfFeatureValues).keys()\n",
    "    frequencies = Counter(listOfFeatureValues).values()\n",
    "#     print(uniqueFeatureValues)\n",
    "#     print(frequencies)\n",
    "    \n",
    "    valueWeights = dict(zip(uniqueFeatureValues,\n",
    "                            [valueFrequency / numSamples for valueFrequency in frequencies]))\n",
    "    \n",
    "    valueFrequenciesTotal = dict(zip(uniqueFeatureValues,\n",
    "                                frequencies))\n",
    "    \n",
    "    a = dict(zip(uniqueFeatureValues, \n",
    "                 [dict()] * len(uniqueFeatureValues)))\n",
    "    \n",
    "    for key in a:\n",
    "        a[key] = dict(zip(uniqueKeys, [0] * len(uniqueKeys)))\n",
    "    \n",
    "#     print(a[list(uniqueFeatureValues)[0]])\n",
    "#     print(\"==========================================================\")\n",
    "    \n",
    "    for sampleId in range(numSamples):\n",
    "        a[listOfFeatureValues[sampleId]][listOfClassKeys[sampleId]] += 1\n",
    "#         print(listOfFeatureValues[sampleId], \"<<<>>>\", listOfClassKeys[sampleId])\n",
    "#         print(a[listOfFeatureValues[sampleId]])\n",
    "#         print(\"==========================================================\")\n",
    "        \n",
    "#     print(list(uniqueFeatureValues)[0])\n",
    "#     print(a[list(uniqueFeatureValues)[0]])\n",
    "        \n",
    "    featureEntropy = 0\n",
    "    \n",
    "    for currentFeatureValue in uniqueFeatureValues:\n",
    "        featureValueEntropy = 0\n",
    "#         print(currentFeatureValue)\n",
    "#         print(a[currentFeatureValue].items())\n",
    "\n",
    "        for key, valueFrequencyInClass in a[currentFeatureValue].items():\n",
    "            featureValueAndClassKeyPairProbability = valueFrequencyInClass / valueFrequenciesTotal[currentFeatureValue]\n",
    "            \n",
    "#             print(featureValueAndClassKeyPairProbability)\n",
    "            \n",
    "            if (0 == featureValueAndClassKeyPairProbability):\n",
    "                continue\n",
    "                \n",
    "            featureValueEntropy -= featureValueAndClassKeyPairProbability * math.log2(featureValueAndClassKeyPairProbability)\n",
    "            \n",
    "        featureEntropy += featureValueEntropy * valueWeights[currentFeatureValue]\n",
    "        \n",
    "    featureEntropies[featureId] = featureEntropy\n",
    "    print(\"Feature's #{0} entropy == {1}\".format(featureId, featureEntropy) )\n",
    "            \n",
    "    featureInformationGain[featureId] = entropy - featureEntropy"
   ]
  }
 ],
 "metadata": {
  "kernelspec": {
   "display_name": "Python 3",
   "language": "python",
   "name": "python3"
  },
  "language_info": {
   "codemirror_mode": {
    "name": "ipython",
    "version": 3
   },
   "file_extension": ".py",
   "mimetype": "text/x-python",
   "name": "python",
   "nbconvert_exporter": "python",
   "pygments_lexer": "ipython3",
   "version": "3.7.4"
  }
 },
 "nbformat": 4,
 "nbformat_minor": 2
}
