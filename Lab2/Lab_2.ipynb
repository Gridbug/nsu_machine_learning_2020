{
 "cells": [
  {
   "cell_type": "code",
   "execution_count": 132,
   "metadata": {},
   "outputs": [],
   "source": [
    "import numpy as np\n",
    "import matplotlib.pyplot as plt\n",
    "import pandas as pd\n",
    "\n",
    "from collections import Counter\n",
    "\n",
    "import functools\n",
    "\n",
    "import math\n",
    "\n",
    "import matplotlib.pyplot as plt"
   ]
  },
  {
   "cell_type": "code",
   "execution_count": 52,
   "metadata": {},
   "outputs": [
    {
     "name": "stdout",
     "output_type": "stream",
     "text": [
      "(185, 33)\n",
      "[[804 '05.06.08' '3576.30']\n",
      " [804 '06.06.08' '3576.30']\n",
      " [804 '07.06.08' '3576.30']\n",
      " [804 '08.06.08' '3576.30']\n",
      " [804 '09.06.08' '3576.30']\n",
      " [804 '17.06.11' '3576.30']\n",
      " [807 '16.09.04' '3590.00']\n",
      " [807 '16.09.04' '3590.00']\n",
      " [807 '17.09.04' '3590.00']\n",
      " [807 '17.09.04' '3590.00']]\n",
      "Num samples == 185\n",
      "Num features == 33\n"
     ]
    }
   ],
   "source": [
    "inputFile = \"ID_data_mass_18122012_prepared.csv\"\n",
    "\n",
    "dataFrame = pd.read_csv(inputFile, header = 0, sep = ';')\n",
    "print(dataFrame.shape)\n",
    "data = dataFrame.values[0:10,0:3]\n",
    "print(data)\n",
    "\n",
    "numSamples = dataFrame.shape[0]\n",
    "print(\"Num samples == \" + str(numSamples))\n",
    "numFeatures = dataFrame.shape[1] - 2  #Last to features used as class designation\n",
    "print(\"Num features == \" + str(numFeatures))"
   ]
  },
  {
   "cell_type": "code",
   "execution_count": 70,
   "metadata": {},
   "outputs": [
    {
     "name": "stdout",
     "output_type": "stream",
     "text": [
      "Entropy == 4.010008655543741\n"
     ]
    }
   ],
   "source": [
    "kgfColumnId = dataFrame.shape[1] - 1\n",
    "gtotalColumnId = dataFrame.shape[1] - 2\n",
    "\n",
    "listOfClassKeys = [str(line[kgfColumnId]) + '/' + str(line[gtotalColumnId]) for line in dataFrame.values]\n",
    "\n",
    "keyFrequencies = Counter(listOfKeys).values()\n",
    "# print(keyFrequencies)\n",
    "\n",
    "uniqueKeys = Counter(listOfKeys).keys()\n",
    "# print(uniqueKeys)\n",
    "\n",
    "probabilities = [keyFrequency / numSamples for keyFrequency in keyFrequencies]\n",
    "# print(probabilities)\n",
    "\n",
    "entropy = functools.reduce(lambda accum, element : accum + (-element * math.log2(element)), \n",
    "                           probabilities)\n",
    "print(\"Entropy == \" + str(entropy))"
   ]
  },
  {
   "cell_type": "code",
   "execution_count": 138,
   "metadata": {},
   "outputs": [
    {
     "name": "stdout",
     "output_type": "stream",
     "text": [
      "Feature's #0 IGR == 0.552230800531862\n",
      "Feature's #1 IGR == 0.5353555730085765\n",
      "Feature's #2 IGR == 0.5600726089429029\n",
      "Feature's #3 IGR == 0.4666748779816262\n",
      "Feature's #4 IGR == 0.5309004895297118\n",
      "Feature's #5 IGR == 0.5329268227049818\n",
      "Feature's #6 IGR == 0.5338965434934047\n",
      "Feature's #7 IGR == 0.5152046955100573\n",
      "Feature's #8 IGR == 0.5332154911177205\n",
      "Feature's #9 IGR == 0.5313289329463614\n",
      "Feature's #10 IGR == 0.49470566098703117\n",
      "Feature's #11 IGR == 0.4943229836542678\n",
      "Feature's #12 IGR == 0.525023736525547\n",
      "Feature's #13 IGR == 0.5323431348016554\n",
      "Feature's #14 IGR == 0.5349476557191343\n",
      "Feature's #15 IGR == 0.5336998670904355\n",
      "Feature's #16 IGR == 0.513920695091424\n",
      "Feature's #17 IGR == 0.5349476557191343\n",
      "Feature's #18 IGR == 0.5358237482360599\n",
      "Feature's #19 IGR == 0.5295194549478894\n",
      "Feature's #20 IGR == 0.48567373506543204\n",
      "Feature's #21 IGR == 0.5480538957935434\n",
      "Feature's #22 IGR == 0.5456531230007851\n",
      "Feature's #23 IGR == 0.5476087644156982\n",
      "Feature's #24 IGR == 0.5197613332365418\n",
      "Feature's #25 IGR == 0.5103306147210501\n",
      "Feature's #26 IGR == 0.5103306147210501\n",
      "Feature's #27 IGR == 0.5221823173666545\n",
      "Feature's #28 IGR == 0.456392335795586\n",
      "Feature's #29 IGR == 0.5130866302246939\n",
      "Feature's #30 IGR == 0.41063536080311624\n",
      "Feature's #31 IGR == 0.5349476557191343\n",
      "Feature's #32 IGR == 0.5527875795780998\n"
     ]
    }
   ],
   "source": [
    "featureEntropies = [0] * numFeatures\n",
    "featureInformationGain = [0] * numFeatures\n",
    "featureIntrinsicValue = [0] * numFeatures\n",
    "featureIGRatio = [0] * numFeatures\n",
    "\n",
    "for featureId in range(numFeatures):\n",
    "    listOfFeatureValues = dataFrame.values[:, featureId]\n",
    "    \n",
    "    uniqueFeatureValues = Counter(listOfFeatureValues).keys()\n",
    "    frequencies = Counter(listOfFeatureValues).values()\n",
    "#     print(uniqueFeatureValues)\n",
    "#     print(frequencies)\n",
    "    \n",
    "    valueWeights = dict(zip(uniqueFeatureValues,\n",
    "                            [valueFrequency / numSamples for valueFrequency in frequencies]))\n",
    "    \n",
    "    valueFrequenciesTotal = dict(zip(uniqueFeatureValues,\n",
    "                                frequencies))\n",
    "    \n",
    "    a = dict(zip(uniqueFeatureValues, \n",
    "                 [dict()] * len(uniqueFeatureValues)))\n",
    "    \n",
    "    for key in a:\n",
    "        a[key] = dict(zip(uniqueKeys, [0] * len(uniqueKeys)))\n",
    "    \n",
    "#     print(a[list(uniqueFeatureValues)[0]])\n",
    "#     print(\"==========================================================\")\n",
    "    \n",
    "    for sampleId in range(numSamples):\n",
    "        a[listOfFeatureValues[sampleId]][listOfClassKeys[sampleId]] += 1\n",
    "#         print(listOfFeatureValues[sampleId], \"<<<>>>\", listOfClassKeys[sampleId])\n",
    "#         print(a[listOfFeatureValues[sampleId]])\n",
    "#         print(\"==========================================================\")\n",
    "        \n",
    "#     print(list(uniqueFeatureValues)[0])\n",
    "#     print(a[list(uniqueFeatureValues)[0]])\n",
    "        \n",
    "    featureEntropy = 0\n",
    "    \n",
    "    for currentFeatureValue in uniqueFeatureValues:\n",
    "        featureValueEntropy = 0\n",
    "#         print(currentFeatureValue)\n",
    "#         print(a[currentFeatureValue].items())\n",
    "\n",
    "        for key, valueFrequencyInClass in a[currentFeatureValue].items():\n",
    "            featureValueAndClassKeyPairProbability = valueFrequencyInClass / valueFrequenciesTotal[currentFeatureValue]\n",
    "            \n",
    "#             print(featureValueAndClassKeyPairProbability)\n",
    "            \n",
    "            if (0 == featureValueAndClassKeyPairProbability):\n",
    "                continue\n",
    "                \n",
    "            featureValueEntropy -= featureValueAndClassKeyPairProbability * math.log2(featureValueAndClassKeyPairProbability)\n",
    "            \n",
    "        featureEntropy += featureValueEntropy * valueWeights[currentFeatureValue]\n",
    "        \n",
    "    featureEntropies[featureId] = featureEntropy\n",
    "#     print(\"Feature's #{0} entropy == {1}\".format(featureId, featureEntropy))\n",
    "            \n",
    "    featureInformationGain[featureId] = entropy - featureEntropy\n",
    "#     print(\"Feature's #{0} IG == {1}\".format(featureId, featureInformationGain[featureId]))\n",
    "    \n",
    "    featureIntrinsicValue[featureId] = functools.reduce(lambda accum, element : accum + (-element * math.log2(element)), \n",
    "                                                        valueWeights.values())\n",
    "#     print(\"Feature's #{0} IV == {1}\".format(featureId, featureIntrinsicValue[featureId]))\n",
    "\n",
    "    featureIGRatio[featureId] = featureInformationGain[featureId] / featureIntrinsicValue[featureId]\n",
    "    print(\"Feature's #{0} IGR == {1}\".format(featureId, featureIGRatio[featureId]))"
   ]
  },
  {
   "cell_type": "code",
   "execution_count": 153,
   "metadata": {},
   "outputs": [
    {
     "data": {
      "image/png": "[encoded data removed]",
      "text/plain": [
       "<Figure size 432x288 with 1 Axes>"
      ]
     },
     "metadata": {
      "needs_background": "light"
     },
     "output_type": "display_data"
    }
   ],
   "source": [
    "fig, ax = plt.subplots()\n",
    "ax.bar(range(numFeatures), featureIGRatio)\n",
    "\n",
    "ax.set_xlabel('Feature id')\n",
    "ax.set_ylabel('Information gain ratio')\n",
    "ax.set_title('Diagram of IGR per feature')\n",
    "\n",
    "fig.tight_layout()\n",
    "plt.show()"
   ]
  },
  {
   "cell_type": "code",
   "execution_count": null,
   "metadata": {},
   "outputs": [],
   "source": []
  }
 ],
 "metadata": {
  "kernelspec": {
   "display_name": "Python 3",
   "language": "python",
   "name": "python3"
  },
  "language_info": {
   "codemirror_mode": {
    "name": "ipython",
    "version": 3
   },
   "file_extension": ".py",
   "mimetype": "text/x-python",
   "name": "python",
   "nbconvert_exporter": "python",
   "pygments_lexer": "ipython3",
   "version": "3.7.4"
  }
 },
 "nbformat": 4,
 "nbformat_minor": 2
}
