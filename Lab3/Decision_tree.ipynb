{
 "cells": [
  {
   "cell_type": "code",
   "execution_count": 2,
   "metadata": {},
   "outputs": [],
   "source": [
    "import numpy as np\n",
    "import matplotlib.pyplot as plt\n",
    "import pandas as pd\n",
    "\n",
    "from collections import Counter\n",
    "\n",
    "import functools\n",
    "\n",
    "import math\n",
    "\n",
    "import matplotlib.pyplot as plt"
   ]
  },
  {
   "cell_type": "code",
   "execution_count": 6,
   "metadata": {},
   "outputs": [
    {
     "name": "stdout",
     "output_type": "stream",
     "text": [
      "(185, 33)\n",
      "[[804 '05.06.08' 3576.3]\n",
      " [804 '06.06.08' 3576.3]\n",
      " [804 '07.06.08' 3576.3]\n",
      " [804 '08.06.08' 3576.3]\n",
      " [804 '09.06.08' 3576.3]\n",
      " [804 '17.06.11' 3576.3]\n",
      " [807 '16.09.04' 3590.0]\n",
      " [807 '16.09.04' 3590.0]\n",
      " [807 '17.09.04' 3590.0]\n",
      " [807 '17.09.04' 3590.0]]\n",
      "Num samples == 185\n",
      "Num features == 33\n"
     ]
    }
   ],
   "source": [
    "inputFile = \"ID_data_mass_18122012_prepared.csv\"\n",
    "\n",
    "dataFrame = pd.read_csv(inputFile, header = 0, sep = ';')\n",
    "print(dataFrame.shape)\n",
    "data = dataFrame.values[0:10,0:3]\n",
    "print(data)\n",
    "\n",
    "numSamples = dataFrame.shape[0]\n",
    "print(\"Num samples == \" + str(numSamples))\n",
    "numFeatures = dataFrame.shape[1]  #Last two features used as class designation\n",
    "print(\"Num features == \" + str(numFeatures))\n",
    "\n",
    "kgfColumnId = dataFrame.shape[1] - 1\n",
    "gtotalColumnId = dataFrame.shape[1] - 2\n",
    "\n",
    "def classMarker(row):\n",
    "    return str(line[kgfColumnId]) + '/' + str(line[gtotalColumnId])"
   ]
  },
  {
   "cell_type": "code",
   "execution_count": 11,
   "metadata": {},
   "outputs": [
    {
     "name": "stdout",
     "output_type": "stream",
     "text": [
      "0.5\n",
      "0.0\n"
     ]
    }
   ],
   "source": [
    "def giniCoefficient(groups, classes):\n",
    "    numOfSamples = float(sum([len(group) for group in groups]))\n",
    "    \n",
    "    # Total Gini index\n",
    "    result = 0.0\n",
    "    \n",
    "    for group in groups:\n",
    "        size = float(len(group))\n",
    "        if size == 0:\n",
    "            continue\n",
    "            \n",
    "        score = 0.0\n",
    "        # score the group based on the score for each class\n",
    "        for class_val in classes:\n",
    "            p = [row[-1] for row in group].count(class_val) / size\n",
    "            score += p * p\n",
    "            \n",
    "        groupWeight = (size / numOfSamples)\n",
    "        result += (1.0 - score) * groupWeight\n",
    "    return result\n",
    "\n",
    "print(giniCoefficient([[[1, 1], [1, 0]], \n",
    "                       [[1, 1], [1, 0]]], \n",
    "                      [0, 1]))\n",
    "print(giniCoefficient([[[1, 0], [1, 0]], \n",
    "                       [[1, 1], [1, 1]]], \n",
    "                      [0, 1]))"
   ]
  },
  {
   "cell_type": "code",
   "execution_count": 16,
   "metadata": {},
   "outputs": [
    {
     "name": "stdout",
     "output_type": "stream",
     "text": [
      "([[0, 1]], [[2, 0]])\n"
     ]
    }
   ],
   "source": [
    "def splitData(featureIndex, splitValue, data):\n",
    "    left = list()\n",
    "    right = list()\n",
    "    \n",
    "    for row in data:\n",
    "        if row[featureIndex] < splitValue:\n",
    "            left.append(row)\n",
    "        else:\n",
    "            right.append(row)\n",
    "            \n",
    "    return left, right\n",
    "\n",
    "print(splitData(0,\n",
    "                1,\n",
    "                [[0, 1], [2, 0]]))"
   ]
  },
  {
   "cell_type": "code",
   "execution_count": null,
   "metadata": {},
   "outputs": [],
   "source": []
  }
 ],
 "metadata": {
  "kernelspec": {
   "display_name": "Python 3",
   "language": "python",
   "name": "python3"
  },
  "language_info": {
   "codemirror_mode": {
    "name": "ipython",
    "version": 3
   },
   "file_extension": ".py",
   "mimetype": "text/x-python",
   "name": "python",
   "nbconvert_exporter": "python",
   "pygments_lexer": "ipython3",
   "version": "3.7.4"
  }
 },
 "nbformat": 4,
 "nbformat_minor": 2
}
