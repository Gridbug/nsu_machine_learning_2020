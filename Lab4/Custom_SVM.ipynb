{
 "cells": [
  {
   "cell_type": "code",
   "execution_count": 28,
   "metadata": {},
   "outputs": [],
   "source": [
    "import numpy as np\n",
    "import matplotlib.pyplot as plt\n",
    "import pandas as pd\n",
    "\n",
    "from collections import Counter\n",
    "\n",
    "import functools\n",
    "\n",
    "import math\n",
    "\n",
    "import matplotlib.pyplot as plt\n",
    "\n",
    "from sklearn.preprocessing import MinMaxScaler"
   ]
  },
  {
   "cell_type": "code",
   "execution_count": 36,
   "metadata": {},
   "outputs": [
    {
     "name": "stdout",
     "output_type": "stream",
     "text": [
      "(527, 40)\n",
      "First few data rows:\n",
      "[['D-1/3/90' 44101.0 1.5 7.8 nan]\n",
      " ['D-2/3/90' 39024.0 3.0 7.7 nan]\n",
      " ['D-4/3/90' 32229.0 5.0 7.6 nan]\n",
      " ['D-5/3/90' 35023.0 3.5 7.9 205.0]\n",
      " ['D-6/3/90' 36924.0 1.5 8.0 242.0]\n",
      " ['D-7/3/90' 38572.0 3.0 7.8 202.0]\n",
      " ['D-8/3/90' 41115.0 6.0 7.8 nan]\n",
      " ['D-9/3/90' 36107.0 5.0 7.7 215.0]\n",
      " ['D-11/3/90' 29156.0 2.5 7.7 206.0]\n",
      " ['D-12/3/90' 39246.0 2.0 7.8 172.0]]\n",
      "Num samples == 527\n",
      "Num features == 38\n"
     ]
    }
   ],
   "source": [
    "inputFile = \"water-treatmennt-original-marked.csv\"\n",
    "\n",
    "dataFrame = pd.read_csv(inputFile, header = 0, sep = ';')\n",
    "print(dataFrame.shape)\n",
    "data = dataFrame.values\n",
    "\n",
    "print('First few data rows:')\n",
    "print(data[0:10, 0:5])\n",
    "\n",
    "numSamples = dataFrame.shape[0]\n",
    "print(\"Num samples == \" + str(numSamples))\n",
    "numFeatures = dataFrame.shape[1] - 2  #first feature is sampling date and last feature used as class marker\n",
    "print(\"Num features == \" + str(numFeatures))"
   ]
  },
  {
   "cell_type": "code",
   "execution_count": 48,
   "metadata": {},
   "outputs": [
    {
     "name": "stdout",
     "output_type": "stream",
     "text": [
      "   Q-E      (input flow to plant)   ZN-E     (input Zinc to plant)\n",
      "0                         44101.0                              1.5\n",
      "1                         39024.0                              3.0\n",
      "2                         32229.0                              5.0\n",
      "3                         35023.0                              3.5\n",
      "4                         36924.0                              1.5\n",
      "5                         38572.0                              3.0\n",
      "6                         41115.0                              6.0\n",
      "7                         36107.0                              5.0\n",
      "8                         29156.0                              2.5\n",
      "9                         39246.0                              2.0\n",
      "[[0.68059803 0.04191617]\n",
      " [0.57912095 0.08682635]\n",
      " [0.44330515 0.14670659]\n",
      " [0.49915053 0.10179641]\n",
      " [0.53714697 0.04191617]\n",
      " [0.57008655 0.08682635]\n",
      " [0.62091503 0.17664671]\n",
      " [0.52081709 0.14670659]\n",
      " [0.38188323 0.07185629]\n",
      " [0.58355819 0.05688623]]\n"
     ]
    }
   ],
   "source": [
    "Y = dataFrame.iloc[:, -1]  # Class markers\n",
    "X = dataFrame.iloc[:, 1:-1]  # Features without date and class markers\n",
    "\n",
    "print(X.iloc[0:10, 0:2])\n",
    "\n",
    "# featureMaxValues = [0] * numFeatures\n",
    "# featureMinValues = [0] * numFeatures\n",
    "\n",
    "# for featureId in range(numFeatures):\n",
    "#     featureMaxValues[featureId] = np.amax(X[:, featureId])\n",
    "#     featureMaxValues[featureId] = np.amin(X[:, featureId])\n",
    "\n",
    "normalizedX = MinMaxScaler().fit_transform(X)\n",
    "X = normalizedX\n",
    "\n",
    "print(X[0:10, 0:2])"
   ]
  },
  {
   "cell_type": "code",
   "execution_count": null,
   "metadata": {},
   "outputs": [],
   "source": [
    "def addFeatureForBias(data):\n",
    "    extendedData = np.zeros((data.shape[0], data.shape[1] + 1))\n",
    "    extendedData[:, 0:-1] = data\n",
    "    extendedData[:, -1] = int(1)\n",
    "    \n",
    "    return extendedData"
   ]
  },
  {
   "cell_type": "code",
   "execution_count": null,
   "metadata": {},
   "outputs": [],
   "source": [
    "def computeSoftMarginCost(W, X, Y):\n",
    "    # Hinge loss\n",
    "    N = X.shape[0]\n",
    "    distances = 1 - Y * (np.dot(X, W))\n",
    "    distances[distances < 0] = 0  # equivalent to max(0, distance)\n",
    "    hinge_loss = regularizationStrength * (np.sum(distances) / N)\n",
    "    \n",
    "    # Soft margin cost function\n",
    "    cost = 1 / 2 * np.dot(W, W) + hinge_loss\n",
    "    return cost"
   ]
  }
 ],
 "metadata": {
  "kernelspec": {
   "display_name": "Python 3",
   "language": "python",
   "name": "python3"
  },
  "language_info": {
   "codemirror_mode": {
    "name": "ipython",
    "version": 3
   },
   "file_extension": ".py",
   "mimetype": "text/x-python",
   "name": "python",
   "nbconvert_exporter": "python",
   "pygments_lexer": "ipython3",
   "version": "3.7.4"
  }
 },
 "nbformat": 4,
 "nbformat_minor": 2
}
